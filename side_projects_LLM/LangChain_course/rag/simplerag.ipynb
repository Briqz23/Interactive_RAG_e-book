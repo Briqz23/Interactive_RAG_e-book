{
 "cells": [
  {
   "cell_type": "code",
   "execution_count": 4,
   "metadata": {},
   "outputs": [
    {
     "data": {
      "text/plain": [
       "[Document(page_content='I\\'m sorry, but I don\\'t want to be an emperor\\nThat\\'s not my business\\nI don\\'t want to rule or conquer anyone\\nI should like to help everyone if possible\\nJew, Gentile, Black Man, White\\nWe all want to help one another, human beings are like that\\nWe want to live by each other\\'s happiness, not by each other\\'s misery\\nWe don\\'t want to hate and despise one another\\nAnd this world has room for everyone, and the good Earth is rich and can provide for everyone\\nThe way of life can be free and beautiful, but we have lost the way\\nGreed has posioned men\\'s souls, has barricaded the world with hate, has goose-stepped us into misery and bloodshed\\nWe have developed speed, but we have shut ourselves in\\nMachinery that gives us abundance has left us in want\\nOur knowledge has made us cynincal\\nOur cleverness, hard and unkind\\nWe think too much, and feel too little\\nMore than machinery, we need humanity\\nMore that cleverness, we need kindness and gentleness\\nWithout these qualities life will be violent, and all will be lost\\nThe aeroplane and the radio have brought us closer together\\nThe very nature of these inventions cries out for the goodness in men - cries out for universal brotherhood - for the unity of us all\\nEven now my voice is reaching millions throughout the world - millions of despairing men, women, and little children - victims of a system that makes men torture and imprison innocent people\\nTo those who can hear me, I say - do not despair\\nThe misery that is now upon us is but the passing of greed - the bitterness of men who fear the way of human progress\\nThe hate of men will pass, and dictators die, and the power they took from the people will return to the people\\nAnd so long as men die, liberty will never perish\\nSoldiers!\\nDon\\'t give yourselves to brutes - men who despise you - enslave you - who regiment your lives - tell you what to do - what to think and what to feel!\\nWho drill you - diet you - treat you like cattle, use you as cannon fodder\\nDon\\'t give yourselves to these unnatural men - machine men with machine minds and machine hearts!\\nYou are not machines!\\nYou are not cattle!\\nYou are men!\\nYou have the love of humanity in your hearts!\\nYou don\\'t hate!\\nOnly the unloved hate - the unloved and the unnatural!\\nSoldiers!\\nDon\\'t fight for slavery!\\nFight for liberty!\\nIn the 17th Chapter of St Luke it is written: \"the Kingdom of God is within man\" - not one man nor a group of men, but in all men!\\nIn you!\\nYou, the people have the power - the power to create machines\\nThe power to create happiness!\\nYou, the people, have the power to make this life free and beautiful, to make this life a wonderful adventure\\nThen - in the name of democracy - let us use that power - let us all unite\\nLet us fight for a new world - a decent world that will give men a chance to work - that will give youth a future and old age a security\\nBy the promise of these things, brutes have risen to power\\nBut they lie!\\nThey do not fulfil that promise\\nThey never will!\\nDictators free themselves but they enslave the people!\\nNow let us fight to fulfil that promise!\\nLet us fight to free the world - to do away with national barriers - to do away with greed, with hate and intolerance\\nLet us fight for a world of reason, a world where science and progress will lead to all men\\'s happiness\\nSoldiers!\\nIn the name of democracy, let us all unite', metadata={'source': 'speech.txt'})]"
      ]
     },
     "execution_count": 4,
     "metadata": {},
     "output_type": "execute_result"
    }
   ],
   "source": [
    "from langchain_community.document_loaders import TextLoader\n",
    "\n",
    "#Data Ingestion\n",
    "loader = TextLoader(\"speech.txt\")\n",
    "text_document = loader.load()\n",
    "text_document\n"
   ]
  },
  {
   "cell_type": "code",
   "execution_count": null,
   "metadata": {},
   "outputs": [],
   "source": [
    "import os\n",
    "from dotenv import load_dotenv\n",
    "load_dotenv()\n",
    "\n",
    "os.environ[\"OPENAI_API_KEY\"] = os.getenv(\"OPENAI_API_KEY\")"
   ]
  },
  {
   "cell_type": "code",
   "execution_count": 17,
   "metadata": {},
   "outputs": [],
   "source": [
    "# web based loader\n",
    "from langchain_community.document_loaders import WebBaseLoader\n",
    "import bs4\n",
    "\n",
    "## load,chunk and index the content of the html page\n",
    "\n",
    "loader=WebBaseLoader(web_paths=(\"https://lilianweng.github.io/posts/2023-06-23-agent/\",),\n",
    "                     bs_kwargs=dict(parse_only=bs4.SoupStrainer(\n",
    "                         class_=(\"post-title\",\"post-content\",\"post-header\")\n",
    "\n",
    "                     )))\n",
    "\n",
    "text_documents=loader.load()\n",
    "text_documents\n"
   ]
  },
  {
   "cell_type": "code",
   "execution_count": 23,
   "metadata": {},
   "outputs": [],
   "source": [
    "#pdf loader\n",
    "\n",
    "from langchain_community.document_loaders import PyPDFLoader\n",
    "\n",
    "loader = PyPDFLoader('alice_in_wonderland.pdf')\n",
    "docs = loader.load()"
   ]
  },
  {
   "cell_type": "code",
   "execution_count": 25,
   "metadata": {},
   "outputs": [
    {
     "data": {
      "text/plain": [
       "[Document(page_content=\"The Project Gutenberg eBook of Alice's Adventures in W onderland\\nThis ebook is for the use of anyone anywhere in the United States and most other parts of the world at no cost and with\\nalmost no restrictions whatsoever . You may copy it, give it away or re-use it under the terms of the Project Gutenberg\\nLicense included with this ebook or online at www .gutenberg.org  (http://www .gutenberg.org) . If you are not located in the\\nUnited States, you will have to check the laws of the country where you are located before using this eBook.\\nTitle: Alice's Adventures in W onderland\\nAuthor: Lewis Carroll\\nRelease date: June 27, 2008 [eBook #1 1] Most recently updated: March 30, 2021\\nLanguage: English\\nCredits: Arthur DiBianca and David Widger\\n_ START OF THE PROJECT GUTENBERG EBOOK ALICE'S ADVENTURES IN WONDERLAND _  [Illustration]\\nAlice’ s Adventures in W onderland\\nby Lewis Carroll\\nTHE MILLENNIUM FULCRUM EDITION 3.0\\nContents\\nCHAPTER I. Down the Rabbit-Hole CHAPTER II. The Pool of T ears CHAPTER III. A Caucus-Race and a Long T ale\\nCHAPTER IV . The Rabbit Sends in a Little Bill CHAPTER V . Advice from a Caterpillar CHAPTER VI. Pig and Pepper\\nCHAPTER VII. A Mad T ea-Party CHAPTER VIII. The Queen’ s Croquet-Ground CHAPTER IX. The Mock T urtle’ s Story\\nCHAPTER X. The Lobster Quadrille CHAPTER XI. Who Stole the T arts? CHAPTER XII. Alice’ s Evidence\\nCHAPTER I. Down the Rabbit-Hole\\nAlice was beginning to get very tired of sitting by her sister on the bank, and of having nothing to do: once or twice she\\nhad peeped into the book her sister was reading, but it had no pictures or conversations in it, “and what is the use of a\\nbook,” thought Alice “without pictures or conversations?”\\nSo she was considering in her own mind (as well as she could, for the hot day made her feel very sleepy and stupid),\\nwhether the pleasure of making a daisy-chain would be worth the trouble of getting up and picking the daisies, when\\nsuddenly a White Rabbit with pink eyes ran close by her .\", metadata={'source': 'alice_in_wonderland.pdf', 'page': 0}),\n",
       " Document(page_content='whether the pleasure of making a daisy-chain would be worth the trouble of getting up and picking the daisies, when\\nsuddenly a White Rabbit with pink eyes ran close by her .\\nThere was nothing so very remarkable in that; nor did Alice think it so very much out of the way to hear the Rabbit say to\\nitself, “Oh dear! Oh dear! I shall be late!” (when she thought it over afterwards, it occurred to her that she ought to have\\nwondered at this, but at the time it all seemed quite natural); but when the Rabbit actually took a watch out of its\\nwaistcoat-pocket , and looked at it, and then hurried on, Alice started to her feet, for it flashed across her mind that she\\nhad never before seen a rabbit with either a waistcoat-pocket, or a watch to take out of it, and burning with curiosity , she\\nran across the field after it, and fortunately was just in time to see it pop down a large rabbit-hole under the hedge.', metadata={'source': 'alice_in_wonderland.pdf', 'page': 0}),\n",
       " Document(page_content='In another moment down went Alice after it, never once considering how in the world she was to get out again.\\nThe rabbit-hole went straight on like a tunnel for some way , and then dipped suddenly down, so suddenly that Alice had\\nnot a moment to think about stopping herself before she found herself falling down a very deep well.\\nEither the well was very deep, or she fell very slowly , for she had plenty of time as she went down to look about her and\\nto wonder what was going to happen next. First, she tried to look down and make out what she was coming to, but it was\\ntoo dark to see anything; then she looked at the sides of the well, and noticed that they were filled with cupboards and\\nbook-shelves; here and there she saw maps and pictures hung upon pegs. She took down a jar from one of the shelves\\nas she passed; it was labelled “ORANGE MARMALADE”, but to her great disappointment it was empty: she did not like\\nto drop the jar for fear of killing somebody underneath, so managed to put it into one of the cupboards as she fell past it.\\n“Well!” thought Alice to herself, “after such a fall as this, I shall think nothing of tumbling down stairs! How brave they’ll all\\nthink me at home! Why , I wouldn’t say anything about it, even if I fell of f the top of the house!” (Which was very likely\\ntrue.)\\nDown, down, down. W ould the fall never  come to an end? “I wonder how many miles I’ve fallen by this time?” she said\\naloud. “I must be getting somewhere near the centre of the earth. Let me see: that would be four thousand miles down, I\\nthink—” (for , you see, Alice had learnt several things of this sort in her lessons in the schoolroom, and though this was\\nnot a very good opportunity for showing of f her knowledge, as there was no one to listen to her , still it was good practice\\nto say it over) “—yes, that’ s about the right distance—but then I wonder what Latitude or Longitude I’ve got to?” (Alice', metadata={'source': 'alice_in_wonderland.pdf', 'page': 1}),\n",
       " Document(page_content='to say it over) “—yes, that’ s about the right distance—but then I wonder what Latitude or Longitude I’ve got to?” (Alice\\nhad no idea what Latitude was, or Longitude either , but thought they were nice grand words to say .)\\nPresently she began again. “I wonder if I shall fall right through  the earth! How funny it’ll seem to come out among the\\npeople that walk with their heads downward! The Antipathies, I think—” (she was rather glad there was no one listening,\\nthis time, as it didn’t sound at all the right word) “—but I shall have to ask them what the name of the country is, you\\nknow . Please, Ma’am, is this New Zealand or Australia?” (and she tried to curtsey as she spoke—fancy curtseying  as\\nyou’re falling through the air! Do you think you could manage it?) “And what an ignorant little girl she’ll think me for\\nasking! No, it’ll never do to ask: perhaps I shall see it written up somewhere.”\\nDown, down, down. There was nothing else to do, so Alice soon began talking again. “Dinah’ll miss me very much to-\\nnight, I should think!” (Dinah was the cat.) “I hope they’ll remember her saucer of milk at tea-time. Dinah my dear! I wish\\nyou were down here with me! There are no mice in the air , I’m afraid, but you might catch a bat, and that’ s very like a\\nmouse, you know . But do cats eat bats, I wonder?” And here Alice began to get rather sleepy , and went on saying to\\nherself, in a dreamy sort of way , “Do cats eat bats? Do cats eat bats?” and sometimes, “Do bats eat cats?” for , you see,\\nas she couldn’t answer either question, it didn’t much matter which way she put it. She felt that she was dozing of f, and\\nhad just begun to dream that she was walking hand in hand with Dinah, and saying to her very earnestly , “Now , Dinah,\\ntell me the truth: did you ever eat a bat?” when suddenly , thump! thump! down she came upon a heap of sticks and dry\\nleaves, and the fall was over .', metadata={'source': 'alice_in_wonderland.pdf', 'page': 1}),\n",
       " Document(page_content='tell me the truth: did you ever eat a bat?” when suddenly , thump! thump! down she came upon a heap of sticks and dry\\nleaves, and the fall was over .\\nAlice was not a bit hurt, and she jumped up on to her feet in a moment: she looked up, but it was all dark overhead;\\nbefore her was another long passage, and the White Rabbit was still in sight, hurrying down it. There was not a moment\\nto be lost: away went Alice like the wind, and was just in time to hear it say , as it turned a corner , “Oh my ears and\\nwhiskers, how late it’ s getting!” She was close behind it when she turned the corner , but the Rabbit was no longer to be\\nseen: she found herself in a long, low hall, which was lit up by a row of lamps hanging from the roof.', metadata={'source': 'alice_in_wonderland.pdf', 'page': 1})]"
      ]
     },
     "execution_count": 25,
     "metadata": {},
     "output_type": "execute_result"
    }
   ],
   "source": [
    "#splitting the document into chunks\n",
    "from langchain.text_splitter import RecursiveCharacterTextSplitter\n",
    "\n",
    "text_splitter = RecursiveCharacterTextSplitter(chunk_size=2000, chunk_overlap=200)\n",
    "documents = text_splitter.split_documents(docs)\n",
    "documents[:5]\n"
   ]
  },
  {
   "cell_type": "code",
   "execution_count": 28,
   "metadata": {},
   "outputs": [
    {
     "data": {
      "text/plain": [
       "<langchain_community.vectorstores.chroma.Chroma at 0x1ede5447f70>"
      ]
     },
     "execution_count": 28,
     "metadata": {},
     "output_type": "execute_result"
    }
   ],
   "source": [
    "#vectorization (vector embedding and vector store)\n",
    "\n",
    "#from langchain_community.embeddings import OpenAIEmbeddings\n",
    "from langchain_openai import OpenAIEmbeddings\n",
    "from langchain_community.vectorstores import Chroma\n",
    "\n",
    "db1 = Chroma.from_documents(documents[:20], OpenAIEmbeddings())"
   ]
  },
  {
   "cell_type": "code",
   "execution_count": 33,
   "metadata": {},
   "outputs": [
    {
     "data": {
      "text/plain": [
       "{'lc': 1,\n",
       " 'type': 'constructor',\n",
       " 'id': ['langchain', 'schema', 'document', 'Document'],\n",
       " 'kwargs': {'page_content': 'whether the pleasure of making a daisy-chain would be worth the trouble of getting up and picking the daisies, when\\nsuddenly a White Rabbit with pink eyes ran close by her .\\nThere was nothing so very remarkable in that; nor did Alice think it so very much out of the way to hear the Rabbit say to\\nitself, “Oh dear! Oh dear! I shall be late!” (when she thought it over afterwards, it occurred to her that she ought to have\\nwondered at this, but at the time it all seemed quite natural); but when the Rabbit actually took a watch out of its\\nwaistcoat-pocket , and looked at it, and then hurried on, Alice started to her feet, for it flashed across her mind that she\\nhad never before seen a rabbit with either a waistcoat-pocket, or a watch to take out of it, and burning with curiosity , she\\nran across the field after it, and fortunately was just in time to see it pop down a large rabbit-hole under the hedge.',\n",
       "  'metadata': {'page': 0, 'source': 'alice_in_wonderland.pdf'}}}"
      ]
     },
     "execution_count": 33,
     "metadata": {},
     "output_type": "execute_result"
    }
   ],
   "source": [
    "#Querying the vector store - similarity search Chroma\n",
    "\n",
    "query = \"Mad hatter saying intersting things\"\n",
    "result = db1.similarity_search(query)\n",
    "result[0].to_json()"
   ]
  },
  {
   "cell_type": "code",
   "execution_count": 34,
   "metadata": {},
   "outputs": [],
   "source": [
    "from langchain_community.vectorstores import FAISS\n",
    "db2 = FAISS.from_documents(documents[:20], OpenAIEmbeddings())\n"
   ]
  },
  {
   "cell_type": "code",
   "execution_count": 35,
   "metadata": {},
   "outputs": [
    {
     "data": {
      "text/plain": [
       "{'lc': 1,\n",
       " 'type': 'constructor',\n",
       " 'id': ['langchain', 'schema', 'document', 'Document'],\n",
       " 'kwargs': {'page_content': 'whether the pleasure of making a daisy-chain would be worth the trouble of getting up and picking the daisies, when\\nsuddenly a White Rabbit with pink eyes ran close by her .\\nThere was nothing so very remarkable in that; nor did Alice think it so very much out of the way to hear the Rabbit say to\\nitself, “Oh dear! Oh dear! I shall be late!” (when she thought it over afterwards, it occurred to her that she ought to have\\nwondered at this, but at the time it all seemed quite natural); but when the Rabbit actually took a watch out of its\\nwaistcoat-pocket , and looked at it, and then hurried on, Alice started to her feet, for it flashed across her mind that she\\nhad never before seen a rabbit with either a waistcoat-pocket, or a watch to take out of it, and burning with curiosity , she\\nran across the field after it, and fortunately was just in time to see it pop down a large rabbit-hole under the hedge.',\n",
       "  'metadata': {'source': 'alice_in_wonderland.pdf', 'page': 0}}}"
      ]
     },
     "execution_count": 35,
     "metadata": {},
     "output_type": "execute_result"
    }
   ],
   "source": [
    "#Querying the vector store - similarity search FAISS\n",
    "\n",
    "query = \"Mad hatter saying intersting things\"\n",
    "result = db2.similarity_search(query)\n",
    "result[0].to_json()"
   ]
  }
 ],
 "metadata": {
  "kernelspec": {
   "display_name": "venv",
   "language": "python",
   "name": "python3"
  },
  "language_info": {
   "codemirror_mode": {
    "name": "ipython",
    "version": 3
   },
   "file_extension": ".py",
   "mimetype": "text/x-python",
   "name": "python",
   "nbconvert_exporter": "python",
   "pygments_lexer": "ipython3",
   "version": "3.10.0"
  }
 },
 "nbformat": 4,
 "nbformat_minor": 2
}
