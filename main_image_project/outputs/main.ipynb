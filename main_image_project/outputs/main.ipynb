{
 "cells": [
  {
   "cell_type": "markdown",
   "metadata": {},
   "source": [
    "*copied from colab as a matter of unifying the documentation\n",
    "# Text-to-Image Generation using Stable Diffusion and Diffusers\n",
    "\n",
    "### Tokenizer converts the text prompt into an embedding, then the diffision pipeline converts the embedding into an output. "
   ]
  },
  {
   "cell_type": "markdown",
   "metadata": {},
   "source": [
    "Requirements.."
   ]
  },
  {
   "cell_type": "code",
   "execution_count": null,
   "metadata": {},
   "outputs": [],
   "source": [
    "%pip install diffusers transformers gradio accelerate"
   ]
  },
  {
   "cell_type": "markdown",
   "metadata": {},
   "source": [
    "Imports\n"
   ]
  },
  {
   "cell_type": "code",
   "execution_count": null,
   "metadata": {},
   "outputs": [],
   "source": [
    "from diffusers import StableDiffusionPipeline\n",
    "import matplotlib.pyplot as plt\n",
    "import torch"
   ]
  },
  {
   "cell_type": "markdown",
   "metadata": {},
   "source": [
    "Choosing the model from HF"
   ]
  },
  {
   "cell_type": "code",
   "execution_count": null,
   "metadata": {},
   "outputs": [],
   "source": [
    "#https://huggingface.co/models?pipeline_tag=text-to-image&sort=trendings\n",
    "#model_id1 = \"dreamlike-art/dreamlike-diffusion-1.0\"\n",
    "#model_id2 = \"stabilityai/stable-diffusion-xl-base-1.0\"\n",
    "model_id3 = \"stabilityai/stable-diffusion-2-1\""
   ]
  },
  {
   "cell_type": "markdown",
   "metadata": {},
   "source": [
    "Creating Pipeline"
   ]
  },
  {
   "cell_type": "code",
   "execution_count": null,
   "metadata": {},
   "outputs": [],
   "source": [
    "pipe = StableDiffusionPipeline.from_pretrained(model_id3, torch_dtype=torch.float16, use_safetensors=True)\n"
   ]
  },
  {
   "cell_type": "markdown",
   "metadata": {},
   "source": [
    "Setting the terrain for the plotting n images"
   ]
  },
  {
   "cell_type": "code",
   "execution_count": null,
   "metadata": {},
   "outputs": [],
   "source": [
    "def generate_image(pipe, prompt, params):\n",
    "  img = pipe(prompt, **params).images\n",
    "\n",
    "  num_images = len(img)\n",
    "  if num_images>1:\n",
    "    fig, ax = plt.subplots(nrows=1, ncols=num_images)\n",
    "    for i in range(num_images):\n",
    "      ax[i].imshow(img[i]);\n",
    "      ax[i].axis('off');\n",
    "\n",
    "  else:\n",
    "    fig = plt.figure()\n",
    "    plt.imshow(img[0]);\n",
    "    plt.axis('off');\n",
    "  plt.tight_layout()"
   ]
  },
  {
   "cell_type": "markdown",
   "metadata": {},
   "source": [
    "Desired prompt and parameters"
   ]
  },
  {
   "cell_type": "code",
   "execution_count": null,
   "metadata": {},
   "outputs": [],
   "source": [
    "prompt = \"Page of book illustration pof the book Alices wonderland containing the Cheshire Cat and art style by René Magritte\"\n",
    "\n",
    "params = {'num_inference_steps': 40, 'num_images_per_prompt': 3, 'negative_parameter': 0.9, 'negative_prompt': \"super realistic, technological, futuristic, abstract, modern, contemporary, digital, cyberpunk, sci-fi, surreal, dreamlike, fantasy, magical, mystical, mythical, whimsical, fairy-tale, enchanted, otherworldly, alien, cosmic, celestial, ethereal, supernatural, paranormal, metaphysical\"}"
   ]
  },
  {
   "cell_type": "markdown",
   "metadata": {},
   "source": [
    "Plotting"
   ]
  },
  {
   "cell_type": "markdown",
   "metadata": {},
   "source": [
    "generate_image(pipe, prompt, params)"
   ]
  }
 ],
 "metadata": {
  "kernelspec": {
   "display_name": "venv",
   "language": "python",
   "name": "python3"
  },
  "language_info": {
   "codemirror_mode": {
    "name": "ipython",
    "version": 3
   },
   "file_extension": ".py",
   "mimetype": "text/x-python",
   "name": "python",
   "nbconvert_exporter": "python",
   "pygments_lexer": "ipython3",
   "version": "3.10.0"
  }
 },
 "nbformat": 4,
 "nbformat_minor": 2
}
